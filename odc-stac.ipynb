{
 "cells": [
  {
   "cell_type": "markdown",
   "id": "3e54b788-8f07-42ee-89d5-62a72a8a3385",
   "metadata": {},
   "source": [
    "# AWS STAC RTC\n",
    "\n",
    "Start exploring this dataset with Xarray"
   ]
  },
  {
   "cell_type": "code",
   "execution_count": null,
   "id": "1b02cd3a-7642-4165-b4ed-59ae084f2dc0",
   "metadata": {},
   "outputs": [],
   "source": [
    "import yaml\n",
    "import odc.stac\n",
    "import pystac\n",
    "import hvplot.xarray"
   ]
  },
  {
   "cell_type": "code",
   "execution_count": null,
   "id": "4357cfe7-6962-49bb-afd9-35a8dae0bbb7",
   "metadata": {},
   "outputs": [],
   "source": [
    "cfg = \"\"\"---\n",
    "\"*\":\n",
    "  warnings: ignore # Disable warnings about duplicate common names\n",
    "\n",
    "sentinel1-rtc-aws:\n",
    "  assets:\n",
    "    '*':\n",
    "      data_type: float32\n",
    "      nodata: 0\n",
    "    'incidence':\n",
    "      data_type: uint16\n",
    "      nodata: 0\n",
    "#      scale: 0.01 #need to do this manually\n",
    "      \n",
    "\"\"\"\n",
    "cfg = yaml.load(cfg, Loader=yaml.CSafeLoader)"
   ]
  },
  {
   "cell_type": "code",
   "execution_count": null,
   "id": "1bdf0579-ad4e-42ac-8449-703654f9b421",
   "metadata": {},
   "outputs": [],
   "source": [
    "cat = pystac.read_file('catalog.json')\n",
    "items = list(cat.get_all_items())\n",
    "ds = odc.stac.load(items,\n",
    "                   #bands=[\"gamma0_vv\", \"gamma0_vh\"],\n",
    "                   stac_cfg=cfg,\n",
    "                   chunks={},\n",
    "                  )\n",
    "\n",
    "ds['incidence'] *= 0.01 #scale to degrees (lazy operation)"
   ]
  },
  {
   "cell_type": "code",
   "execution_count": null,
   "id": "77a1e759-3c08-407f-a8cd-a1ee1236912e",
   "metadata": {},
   "outputs": [],
   "source": [
    "i = 0\n",
    "title=ds.time.values[0].astype('str')\n",
    "\n",
    "ds['incidence'].isel(time=i).hvplot.image(rasterize=True,\n",
    "                                          data_aspect=1,\n",
    "                                          title=title,\n",
    "                                          cmap='viridis',\n",
    "                                          clabel='incidence (degrees)')"
   ]
  },
  {
   "cell_type": "code",
   "execution_count": null,
   "id": "e4991f56-b556-4fe4-9dbb-27b728d926c2",
   "metadata": {},
   "outputs": [],
   "source": [
    "ds['gamma0_vv'].isel(time=i).hvplot.image(rasterize=True,\n",
    "                                          data_aspect=1,\n",
    "                                          title=title,\n",
    "                                          clim=(0,0.5),\n",
    "                                          cmap='gray',\n",
    "                                          clabel='gamma0_vv (watts)')"
   ]
  },
  {
   "cell_type": "code",
   "execution_count": null,
   "id": "baff693d-46ae-484c-9968-f5f98da0e3d0",
   "metadata": {},
   "outputs": [],
   "source": [
    "ds['gamma0_vh'].isel(time=i).hvplot.image(rasterize=True,\n",
    "                                          data_aspect=1,\n",
    "                                          title=title,\n",
    "                                          clim=(0,0.2), # not equal to vv scale\n",
    "                                          cmap='gray',\n",
    "                                          clabel='gamma0_vh (watts)')"
   ]
  }
 ],
 "metadata": {
  "kernelspec": {
   "display_name": "Python 3 (ipykernel)",
   "language": "python",
   "name": "python3"
  },
  "language_info": {
   "codemirror_mode": {
    "name": "ipython",
    "version": 3
   },
   "file_extension": ".py",
   "mimetype": "text/x-python",
   "name": "python",
   "nbconvert_exporter": "python",
   "pygments_lexer": "ipython3",
   "version": "3.9.7"
  }
 },
 "nbformat": 4,
 "nbformat_minor": 5
}
