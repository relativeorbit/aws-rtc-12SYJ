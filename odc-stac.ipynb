{
 "cells": [
  {
   "cell_type": "markdown",
   "id": "3e54b788-8f07-42ee-89d5-62a72a8a3385",
   "metadata": {},
   "source": [
    "# AWS STAC RTC\n",
    "\n",
    "Start exploring this dataset with Xarray"
   ]
  },
  {
   "cell_type": "code",
   "execution_count": null,
   "id": "13320f71-ddb1-4c5f-ae8f-11b943d9fa6e",
   "metadata": {},
   "outputs": [],
   "source": [
    "!pip -q install odc.stac"
   ]
  },
  {
   "cell_type": "code",
   "execution_count": null,
   "id": "1b02cd3a-7642-4165-b4ed-59ae084f2dc0",
   "metadata": {},
   "outputs": [],
   "source": [
    "import yaml\n",
    "import odc.stac\n",
    "import pystac\n",
    "import hvplot.xarray"
   ]
  },
  {
   "cell_type": "code",
   "execution_count": null,
   "id": "4bb118a4-8686-42aa-ad2c-82e97146ffab",
   "metadata": {},
   "outputs": [],
   "source": [
    "# Paste /proxy/localhost:8787 for cluster diagnostics\n",
    "from dask.distributed import Client\n",
    "client = Client()\n",
    "client"
   ]
  },
  {
   "cell_type": "code",
   "execution_count": null,
   "id": "b48d7a6d-87a0-438b-866f-eada19527ec8",
   "metadata": {},
   "outputs": [],
   "source": [
    "# GDAL environment variables for better performance\n",
    "import os\n",
    "os.environ['AWS_REGION']='us-west-2'\n",
    "os.environ['GDAL_DISABLE_READDIR_ON_OPEN']='EMPTY_DIR' \n",
    "os.environ['AWS_NO_SIGN_REQUEST']='YES' "
   ]
  },
  {
   "cell_type": "code",
   "execution_count": null,
   "id": "4357cfe7-6962-49bb-afd9-35a8dae0bbb7",
   "metadata": {},
   "outputs": [],
   "source": [
    "# temporary fix https://github.com/opendatacube/odc-stac/issues/9#issuecomment-952363783\n",
    "cfg = \"\"\"---\n",
    "\"*\":\n",
    "  warnings: ignore # Disable warnings about duplicate common names\n",
    "\n",
    "sentinel1-rtc-aws:\n",
    "  assets:\n",
    "    '*':\n",
    "      data_type: float32\n",
    "      nodata: 0\n",
    "    'incidence':\n",
    "      data_type: uint16\n",
    "      nodata: 0\n",
    "#      scale: 0.01 #need to do this manually\n",
    "      \n",
    "\"\"\"\n",
    "cfg = yaml.load(cfg, Loader=yaml.CSafeLoader)"
   ]
  },
  {
   "cell_type": "code",
   "execution_count": null,
   "id": "1bdf0579-ad4e-42ac-8449-703654f9b421",
   "metadata": {},
   "outputs": [],
   "source": [
    "cat = pystac.read_file('catalog.json')\n",
    "items = list(cat.get_all_items())\n",
    "ds = odc.stac.load(items,\n",
    "                   #bands=[\"gamma0_vv\", \"gamma0_vh\"],\n",
    "                   stac_cfg=cfg,\n",
    "                   chunks=dict(x=512, y=512, time=1),\n",
    "                  )\n",
    "print('Total dataset size =', ds.nbytes/1e9)\n",
    "ds"
   ]
  },
  {
   "cell_type": "code",
   "execution_count": null,
   "id": "12203ea3-f808-4189-a2aa-72d166bf4468",
   "metadata": {},
   "outputs": [],
   "source": [
    "# Subset around Grand Mesa\n",
    "xmin,xmax,ymin,ymax = [739186, 742748, 4.325443e+06, 4.327356e+06]\n",
    "\n",
    "daT = ds['gamma0_vv'].sel(x=slice(xmin, xmax),\n",
    "                          y=slice(ymax, ymin))\n",
    "\n",
    "daT"
   ]
  },
  {
   "cell_type": "code",
   "execution_count": null,
   "id": "618e7ffb-a69f-48a0-a88b-dc6bb7809a4a",
   "metadata": {},
   "outputs": [],
   "source": [
    "%%time\n",
    "# Our area of interest is now small, and will easily fit in-memory\n",
    "daT = daT.compute()\n",
    "\n",
    "all_points = daT.where(daT!=0).hvplot.scatter('time', groupby=[], dynspread=True, datashade=True) \n",
    "mean_trend = daT.where(daT!=0, drop=True).mean(dim=['x','y']).hvplot.line(title='North Grand Mesa', color='red')\n",
    "(all_points * mean_trend)"
   ]
  },
  {
   "cell_type": "markdown",
   "id": "a1e331d2-e93a-4f4a-8044-1c2fdfca1e14",
   "metadata": {},
   "source": [
    "## Spatial visualizations"
   ]
  },
  {
   "cell_type": "code",
   "execution_count": null,
   "id": "77a1e759-3c08-407f-a8cd-a1ee1236912e",
   "metadata": {},
   "outputs": [],
   "source": [
    "i = 0\n",
    "title=ds.time.values[0].astype('str')\n",
    "\n",
    "ds['incidence'].isel(time=i).hvplot.image(rasterize=True,\n",
    "                                          data_aspect=1,\n",
    "                                          title=title,\n",
    "                                          cmap='viridis',\n",
    "                                          clabel='incidence (degrees)')"
   ]
  },
  {
   "cell_type": "code",
   "execution_count": null,
   "id": "e4991f56-b556-4fe4-9dbb-27b728d926c2",
   "metadata": {},
   "outputs": [],
   "source": [
    "ds['gamma0_vv'].isel(time=i).hvplot.image(rasterize=True,\n",
    "                                          data_aspect=1,\n",
    "                                          title=title,\n",
    "                                          clim=(0,0.5),\n",
    "                                          cmap='gray',\n",
    "                                          clabel='gamma0_vv (watts)')"
   ]
  },
  {
   "cell_type": "code",
   "execution_count": null,
   "id": "baff693d-46ae-484c-9968-f5f98da0e3d0",
   "metadata": {},
   "outputs": [],
   "source": [
    "ds['gamma0_vh'].isel(time=i).hvplot.image(rasterize=True,\n",
    "                                          data_aspect=1,\n",
    "                                          title=title,\n",
    "                                          clim=(0,0.2), # not equal to vv scale\n",
    "                                          cmap='gray',\n",
    "                                          clabel='gamma0_vh (watts)')"
   ]
  }
 ],
 "metadata": {
  "kernelspec": {
   "display_name": "Python 3 (ipykernel)",
   "language": "python",
   "name": "python3"
  },
  "language_info": {
   "codemirror_mode": {
    "name": "ipython",
    "version": 3
   },
   "file_extension": ".py",
   "mimetype": "text/x-python",
   "name": "python",
   "nbconvert_exporter": "python",
   "pygments_lexer": "ipython3",
   "version": "3.8.12"
  }
 },
 "nbformat": 4,
 "nbformat_minor": 5
}
