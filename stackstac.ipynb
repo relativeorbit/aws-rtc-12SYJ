{
 "cells": [
  {
   "cell_type": "markdown",
   "id": "binding-fisher",
   "metadata": {},
   "source": [
    "# AWS STAC RTC\n",
    "\n",
    "Start exploring this dataset with Xarray via [stackstac](https://github.com/gjoseph92/stackstac)"
   ]
  },
  {
   "cell_type": "code",
   "execution_count": null,
   "id": "aware-leonard",
   "metadata": {},
   "outputs": [],
   "source": [
    "!pip install git+https://github.com/gjoseph92/stackstac.git@main",
    "!pip install pystac==1.2"
   ]
  },
  {
   "cell_type": "code",
   "execution_count": null,
   "id": "naughty-vaccine",
   "metadata": {},
   "outputs": [],
   "source": [
    "import pystac\n",
    "import stackstac"
   ]
  },
  {
   "cell_type": "code",
   "execution_count": null,
   "id": "streaming-lunch",
   "metadata": {},
   "outputs": [],
   "source": [
    "# Load STAC ItemCollection\n",
    "stac_items = pystac.ItemCollection.from_file('mycollection.json')\n",
    "items = [item.to_dict(transform_hrefs=False) for item in stac_items]\n",
    "\n",
    "stack = stackstac.stack(items)\n",
    "stack"
   ]
  },
  {
   "cell_type": "code",
   "execution_count": null,
   "id": "silent-ranking",
   "metadata": {},
   "outputs": [],
   "source": [
    "# Subset around Grand Mesa\n",
    "xmin,xmax,ymin,ymax = [739186, 742748, 4.325443e+06, 4.327356e+06]\n",
    "\n",
    "daT = stack.sel(band='gamma0_vv',\n",
    "                x=slice(xmin, xmax),\n",
    "                y=slice(ymax, ymin))\n",
    "\n",
    "daT"
   ]
  }
 ],
 "metadata": {
  "kernelspec": {
   "display_name": "Python 3",
   "language": "python",
   "name": "python3"
  },
  "language_info": {
   "codemirror_mode": {
    "name": "ipython",
    "version": 3
   },
   "file_extension": ".py",
   "mimetype": "text/x-python",
   "name": "python",
   "nbconvert_exporter": "python",
   "pygments_lexer": "ipython3",
   "version": "3.7.8"
  }
 },
 "nbformat": 4,
 "nbformat_minor": 5
}
