{
 "cells": [
  {
   "cell_type": "code",
   "execution_count": null,
   "id": "eb1d1220-33c1-4197-bded-2b1dfeb952a9",
   "metadata": {},
   "outputs": [],
   "source": [
    "!pip install -q git+https://github.com/gjoseph92/stackstac.git@main\n",
    "!pip install -q pystac==1.2"
   ]
  },
  {
   "cell_type": "code",
   "execution_count": null,
   "id": "7c460e4f-fb82-48f8-909f-64c707e401ad",
   "metadata": {},
   "outputs": [],
   "source": [
    "import pystac\n",
    "import stackstac\n",
    "import geopandas as gpd\n",
    "import hvplot.xarray\n",
    "from dask.distributed import Client\n",
    "import os"
   ]
  },
  {
   "cell_type": "code",
   "execution_count": null,
   "id": "596c75a2-8e35-409b-8b3d-1e21a3f98ba0",
   "metadata": {},
   "outputs": [],
   "source": [
    "# GDAL environment variables for better performance\n",
    "\n",
    "os.environ['AWS_REGION']='us-west-2'\n",
    "os.environ['GDAL_DISABLE_READDIR_ON_OPEN']='EMPTY_DIR' \n",
    "os.environ['AWS_NO_SIGN_REQUEST']='YES' "
   ]
  },
  {
   "cell_type": "code",
   "execution_count": null,
   "id": "fc38a4bb-a005-4eec-81de-5cca22ac4305",
   "metadata": {},
   "outputs": [],
   "source": [
    "# Paste /proxy/localhost:8787 for cluster diagnostics\n",
    "client = Client(local_directory='/tmp', processes=False)\n",
    "client"
   ]
  },
  {
   "cell_type": "code",
   "execution_count": null,
   "id": "7d8690d5-3099-4d65-8383-313f98ea5ca7",
   "metadata": {},
   "outputs": [],
   "source": [
    "# Load STAC ItemCollection\n",
    "stac_items = pystac.ItemCollection.from_file('mycollection.json')\n",
    "items = [item.to_dict(transform_hrefs=False) for item in stac_items]\n",
    "\n",
    "stack = stackstac.stack(items,\n",
    "                        dtype='float32')\n",
    "stack"
   ]
  },
  {
   "cell_type": "code",
   "execution_count": null,
   "id": "d4975457-53fe-44d1-bccd-d339260e5698",
   "metadata": {},
   "outputs": [],
   "source": [
    "gamma0_vv = stack.sel(band='gamma0_vv')\n",
    "\n",
    "gamma0_vv.hvplot.image(x='x', y='y',\n",
    "                      rasterize=True,\n",
    "                      data_aspect=1,\n",
    "                      title='gamma0_vv',\n",
    "                      clim=(0,0.4), # not equal to vv scale\n",
    "                      cmap='gray',\n",
    "                      clabel='gamma0_vv (watts)')"
   ]
  },
  {
   "cell_type": "code",
   "execution_count": null,
   "id": "c4616791-c24f-4e65-ac09-b94f6c33a603",
   "metadata": {},
   "outputs": [],
   "source": [
    "snotel = {'622_CO_SNTL': dict(longitude=-108.058350, latitude=39.058311, elevation=3048.0),\n",
    "          '682_CO_SNTL': dict(longitude=-107.874138, latitude=39.046440, elevation=3035.808105)\n",
    "         }\n",
    "df = gpd.pd.DataFrame(snotel).T\n",
    "\n",
    "geometries = gpd.points_from_xy(df.longitude.values, df.latitude.values)\n",
    "\n",
    "gf = gpd.GeoDataFrame(df, geometry=geometries, crs=\"EPSG:4326\")\n",
    "\n",
    "gf"
   ]
  },
  {
   "cell_type": "code",
   "execution_count": null,
   "id": "881d0e32-c633-4a07-8eda-fb4bb2bfd3a6",
   "metadata": {},
   "outputs": [],
   "source": [
    "gf_utm = gf.to_crs(stack.crs)\n",
    "gf_utm"
   ]
  },
  {
   "cell_type": "code",
   "execution_count": null,
   "id": "510553ec-396b-4b50-ae5a-8db4feeb78d5",
   "metadata": {},
   "outputs": [],
   "source": [
    "easting, northing = gf_utm.loc['622_CO_SNTL'].geometry.coords[0]\n",
    "#easting # 754536.6884321134\n",
    "#northing # 4327366.69808165"
   ]
  },
  {
   "cell_type": "code",
   "execution_count": null,
   "id": "0666f2ad-f5be-4e07-b8f7-92859b61f190",
   "metadata": {},
   "outputs": [],
   "source": [
    "# Get timeseries at a point\n",
    "ts = stack.sel(band='gamma0_vv').sel(x=easting,y=northing, method='nearest').compute()"
   ]
  },
  {
   "cell_type": "code",
   "execution_count": null,
   "id": "95c92657-86b2-4f2a-94ae-1c417f758c77",
   "metadata": {},
   "outputs": [],
   "source": [
    "ts.hvplot.scatter(x='time', ylabel='gamma0_vv (watts)')"
   ]
  },
  {
   "cell_type": "code",
   "execution_count": null,
   "id": "9f53b551-4a5b-4b87-ae82-ceb13385e313",
   "metadata": {},
   "outputs": [],
   "source": [
    "#selection based on coordinate values:\n",
    "ts.hvplot.scatter(x='time', c='platform', ylabel='gamma0_vv (watts)')"
   ]
  },
  {
   "cell_type": "code",
   "execution_count": null,
   "id": "4bcb6486-0e5c-4221-aa4a-70d5647f56bf",
   "metadata": {},
   "outputs": [],
   "source": [
    "ts.hvplot.scatter(x='time', c='sat:orbit_state', ylabel='gamma0_vv (watts)')"
   ]
  },
  {
   "cell_type": "code",
   "execution_count": null,
   "id": "69d19e97-f6c5-48a1-85f5-8f30af1c0bd7",
   "metadata": {},
   "outputs": [],
   "source": [
    "# work with small box around flat area of mesa\n",
    "buffer = 100 # meters\n",
    "x = 7.403e5\n",
    "y = 4.327e6\n",
    "ts_box = stack.sel(band='gamma0_vh').sel(x=slice(x-buffer,x+buffer), y=slice(y+buffer, y-buffer))\n",
    "\n",
    "# can work around this by pulling all data into memory first\n",
    "# NotImplementedError: The da.nanmedian function only works along an axis or a subset of axes.  The full algorithm is difficult to do in parallel\n",
    "#ts = ts_box.median().compute()\n",
    "ts = ts_box.compute().median(dim=['x','y'])"
   ]
  },
  {
   "cell_type": "code",
   "execution_count": null,
   "id": "065185c5-2e2e-4681-923f-e37f18a8485f",
   "metadata": {},
   "outputs": [],
   "source": [
    "ts_box"
   ]
  },
  {
   "cell_type": "code",
   "execution_count": null,
   "id": "d3cd4e45-c54a-40fe-84b8-f31fceaf23dc",
   "metadata": {},
   "outputs": [],
   "source": [
    "line = ts.where(~ts.isnull(), drop=True).hvplot.line(x='time', c='k')\n",
    "points = ts.hvplot.scatter(x='time', c='sat:orbit_state', ylabel='gamma0_vh (watts)')\n",
    "line * points"
   ]
  },
  {
   "cell_type": "code",
   "execution_count": null,
   "id": "aafd0378-2a92-47f4-8c6a-121dad4cc6ab",
   "metadata": {},
   "outputs": [],
   "source": [
    "%%time \n",
    "# Compare VV and VH in same plot\n",
    "\n",
    "box = stack.sel(band=['gamma0_vv','gamma0_vh']).sel(x=slice(x-buffer,x+buffer), y=slice(y+buffer, y-buffer)).compute()"
   ]
  },
  {
   "cell_type": "code",
   "execution_count": null,
   "id": "a3c0409c-4924-43a5-9052-d7d738a12c6e",
   "metadata": {},
   "outputs": [],
   "source": [
    "%%time\n",
    "\n",
    "ts_vv = box.sel(band='gamma0_vv').median(dim=['x','y'])\n",
    "ts_vh = box.sel(band='gamma0_vh').median(dim=['x','y'])\n",
    "\n",
    "line_vv = ts_vv.where(~ts_vv.isnull(), drop=True).hvplot.line(x='time', c='k')\n",
    "line_vh = ts_vh.where(~ts_vh.isnull(), drop=True).hvplot.line(x='time', c='m')\n",
    "\n",
    "points_vv = ts_vv.hvplot.scatter(x='time', c='k', label='VV')\n",
    "points_vh = ts_vh.hvplot.scatter(x='time', c='m', label='VH')\n",
    "\n",
    "(line_vv * line_vh * points_vv * points_vh).opts(ylabel='backscatter power (watts)')"
   ]
  },
  {
   "cell_type": "code",
   "execution_count": null,
   "id": "265e6ca0-a2b1-4e74-aa38-cd518bfd15b6",
   "metadata": {},
   "outputs": [],
   "source": [
    "ts_vv_norm = ts_vv/ts_vv.max()\n",
    "ts_vh_norm = ts_vh/ts_vh.max()\n",
    "\n",
    "line_vv = ts_vv_norm.where(~ts_vv.isnull(), drop=True).hvplot.line(x='time', c='k', label='VV')\n",
    "line_vh = ts_vh_norm.where(~ts_vh.isnull(), drop=True).hvplot.line(x='time', c='m', label='VH')\n",
    "\n",
    "(line_vv * line_vh).opts(ylabel='normalized backscatter power (watts)')"
   ]
  }
 ],
 "metadata": {
  "kernelspec": {
   "display_name": "Python 3 (ipykernel)",
   "language": "python",
   "name": "python3"
  },
  "language_info": {
   "codemirror_mode": {
    "name": "ipython",
    "version": 3
   },
   "file_extension": ".py",
   "mimetype": "text/x-python",
   "name": "python",
   "nbconvert_exporter": "python",
   "pygments_lexer": "ipython3",
   "version": "3.9.7"
  }
 },
 "nbformat": 4,
 "nbformat_minor": 5
}
